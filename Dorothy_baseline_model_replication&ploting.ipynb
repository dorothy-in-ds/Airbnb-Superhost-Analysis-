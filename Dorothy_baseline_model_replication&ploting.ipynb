{
  "nbformat": 4,
  "nbformat_minor": 0,
  "metadata": {
    "accelerator": "GPU",
    "colab": {
      "name": "Dorothy-baseline model replication&ploting.ipynb",
      "provenance": [],
      "collapsed_sections": [],
      "include_colab_link": true
    },
    "interpreter": {
      "hash": "0e75f62e3678e2cc45ba815b06d45149f3ef8e725365fb50a06024c1d0abc38d"
    },
    "kernelspec": {
      "display_name": "Python 3",
      "language": "python",
      "name": "python3"
    },
    "language_info": {
      "codemirror_mode": {
        "name": "ipython",
        "version": 3
      },
      "file_extension": ".py",
      "mimetype": "text/x-python",
      "name": "python",
      "nbconvert_exporter": "python",
      "pygments_lexer": "ipython3",
      "version": "3.8.5"
    },
    "pycharm": {
      "stem_cell": {
        "cell_type": "raw",
        "metadata": {
          "collapsed": false
        },
        "source": []
      }
    },
    "toc": {
      "base_numbering": 1,
      "nav_menu": {},
      "number_sections": true,
      "sideBar": true,
      "skip_h1_title": false,
      "title_cell": "Table of Contents",
      "title_sidebar": "Contents",
      "toc_cell": false,
      "toc_position": {},
      "toc_section_display": true,
      "toc_window_display": false
    }
  },
  "cells": [
    {
      "cell_type": "markdown",
      "metadata": {
        "id": "view-in-github",
        "colab_type": "text"
      },
      "source": [
        "<a href=\"https://colab.research.google.com/github/dorothy-in-ds/Airbnb-Superhost-Analysis-/blob/master/Dorothy_baseline_model_replication%26ploting.ipynb\" target=\"_parent\"><img src=\"https://colab.research.google.com/assets/colab-badge.svg\" alt=\"Open In Colab\"/></a>"
      ]
    },
    {
      "cell_type": "markdown",
      "metadata": {
        "collapsed": true,
        "id": "V0NLAmCjDxZ0"
      },
      "source": [
        "# Set-up"
      ]
    },
    {
      "cell_type": "code",
      "metadata": {
        "colab": {
          "base_uri": "https://localhost:8080/"
        },
        "id": "1RRZumecD258",
        "outputId": "567cc12d-d3f7-49d3-b117-5db7e74b76c7"
      },
      "source": [
        "# Mount into drive\n",
        "\n",
        "from google.colab import drive\n",
        "\n",
        "drive.mount(\"/content/drive\")\n",
        "\n",
        "%cd '/content/drive/MyDrive/1-omscs/'"
      ],
      "execution_count": null,
      "outputs": [
        {
          "output_type": "stream",
          "name": "stdout",
          "text": [
            "Mounted at /content/drive\n",
            "/content/drive/MyDrive/1-omscs\n"
          ]
        }
      ]
    },
    {
      "cell_type": "markdown",
      "metadata": {
        "id": "PnCUz8ZDQ7VW"
      },
      "source": [
        "\n",
        "\n",
        "**1.   Environment Setup**\n",
        "\n"
      ]
    },
    {
      "cell_type": "code",
      "metadata": {
        "id": "rrwiQmibDxZ4"
      },
      "source": [
        "import numpy as np\n",
        "import csv\n",
        "import torch\n",
        "from IPython.display import Image\n",
        "import pandas as pd\n",
        "import json\n",
        "\n",
        "# for auto-reloading external modules\n",
        "# see http://stackoverflow.com/questions/1907993/autoreload-of-modules-in-ipython\n",
        "%load_ext autoreload\n",
        "%autoreload 2"
      ],
      "execution_count": null,
      "outputs": []
    },
    {
      "cell_type": "markdown",
      "metadata": {
        "id": "wePeT7-r_3Mi"
      },
      "source": [
        "2. clone mmf from github don't rerun this section\n"
      ]
    },
    {
      "cell_type": "code",
      "metadata": {
        "id": "pMiHRjogrdjq"
      },
      "source": [
        "#!git clone https://github.com/facebookresearch/mmf.git"
      ],
      "execution_count": null,
      "outputs": []
    },
    {
      "cell_type": "markdown",
      "metadata": {
        "id": "PLopwAau_79B"
      },
      "source": [
        "3. install mmf"
      ]
    },
    {
      "cell_type": "markdown",
      "metadata": {
        "id": "bL9Sa0Wk_0Xe"
      },
      "source": [
        "reinstall imgaug before installing mmf"
      ]
    },
    {
      "cell_type": "code",
      "metadata": {
        "colab": {
          "base_uri": "https://localhost:8080/"
        },
        "id": "FYo6wwskxxPw",
        "outputId": "d6eaf34c-4ee5-447f-a6cd-f15b21b7a864"
      },
      "source": [
        "!pip uninstall imgaug && pip uninstall albumentations && pip install git+https://github.com/aleju/imgaug.git"
      ],
      "execution_count": null,
      "outputs": [
        {
          "output_type": "stream",
          "name": "stdout",
          "text": [
            "\u001b[33mWARNING: Skipping imgaug as it is not installed.\u001b[0m\n",
            "\u001b[33mWARNING: Running pip as the 'root' user can result in broken permissions and conflicting behaviour with the system package manager. It is recommended to use a virtual environment instead: https://pip.pypa.io/warnings/venv\u001b[0m\n",
            "\u001b[33mWARNING: Skipping albumentations as it is not installed.\u001b[0m\n",
            "\u001b[33mWARNING: Running pip as the 'root' user can result in broken permissions and conflicting behaviour with the system package manager. It is recommended to use a virtual environment instead: https://pip.pypa.io/warnings/venv\u001b[0m\n",
            "Collecting git+https://github.com/aleju/imgaug.git\n",
            "  Cloning https://github.com/aleju/imgaug.git to /tmp/pip-req-build-ai0etmeb\n",
            "  Running command git clone -q https://github.com/aleju/imgaug.git /tmp/pip-req-build-ai0etmeb\n",
            "  Resolved https://github.com/aleju/imgaug.git to commit 0101108d4fed06bc5056c4a03e2bcb0216dac326\n",
            "Requirement already satisfied: six in /usr/local/lib/python3.7/site-packages (from imgaug==0.4.0) (1.16.0)\n",
            "Requirement already satisfied: numpy>=1.15 in /usr/local/lib/python3.7/site-packages (from imgaug==0.4.0) (1.21.4)\n",
            "Collecting scipy\n",
            "  Downloading scipy-1.7.3-cp37-cp37m-manylinux_2_12_x86_64.manylinux2010_x86_64.whl (38.1 MB)\n",
            "\u001b[K     |████████████████████████████████| 38.1 MB 1.5 MB/s \n",
            "\u001b[?25hRequirement already satisfied: Pillow in /usr/local/lib/python3.7/site-packages (from imgaug==0.4.0) (8.4.0)\n",
            "Requirement already satisfied: matplotlib in /usr/local/lib/python3.7/site-packages (from imgaug==0.4.0) (3.5.0)\n",
            "Collecting scikit-image>=0.14.2\n",
            "  Downloading scikit_image-0.19.0-cp37-cp37m-manylinux_2_12_x86_64.manylinux2010_x86_64.whl (55.4 MB)\n",
            "\u001b[K     |████████████████████████████████| 55.4 MB 1.3 MB/s \n",
            "\u001b[?25hRequirement already satisfied: opencv-python in /usr/local/lib/python3.7/site-packages (from imgaug==0.4.0) (4.5.4.60)\n",
            "Collecting Shapely\n",
            "  Downloading Shapely-1.8.0-cp37-cp37m-manylinux_2_5_x86_64.manylinux1_x86_64.whl (1.1 MB)\n",
            "\u001b[K     |████████████████████████████████| 1.1 MB 42.2 MB/s \n",
            "\u001b[?25hCollecting imageio\n",
            "  Downloading imageio-2.13.3-py3-none-any.whl (3.3 MB)\n",
            "\u001b[K     |████████████████████████████████| 3.3 MB 44.8 MB/s \n",
            "\u001b[?25hCollecting PyWavelets>=1.1.1\n",
            "  Downloading PyWavelets-1.2.0-cp37-cp37m-manylinux_2_5_x86_64.manylinux1_x86_64.whl (6.1 MB)\n",
            "\u001b[K     |████████████████████████████████| 6.1 MB 41.6 MB/s \n",
            "\u001b[?25hCollecting tifffile>=2019.7.26\n",
            "  Downloading tifffile-2021.11.2-py3-none-any.whl (178 kB)\n",
            "\u001b[K     |████████████████████████████████| 178 kB 50.0 MB/s \n",
            "\u001b[?25hCollecting networkx>=2.2\n",
            "  Downloading networkx-2.6.3-py3-none-any.whl (1.9 MB)\n",
            "\u001b[K     |████████████████████████████████| 1.9 MB 38.1 MB/s \n",
            "\u001b[?25hRequirement already satisfied: packaging>=20.0 in /usr/local/lib/python3.7/site-packages (from scikit-image>=0.14.2->imgaug==0.4.0) (21.3)\n",
            "Requirement already satisfied: pyparsing!=3.0.5,>=2.0.2 in /usr/local/lib/python3.7/site-packages (from packaging>=20.0->scikit-image>=0.14.2->imgaug==0.4.0) (3.0.6)\n",
            "Requirement already satisfied: fonttools>=4.22.0 in /usr/local/lib/python3.7/site-packages (from matplotlib->imgaug==0.4.0) (4.28.3)\n",
            "Requirement already satisfied: cycler>=0.10 in /usr/local/lib/python3.7/site-packages (from matplotlib->imgaug==0.4.0) (0.11.0)\n",
            "Requirement already satisfied: kiwisolver>=1.0.1 in /usr/local/lib/python3.7/site-packages (from matplotlib->imgaug==0.4.0) (1.3.2)\n",
            "Requirement already satisfied: python-dateutil>=2.7 in /usr/local/lib/python3.7/site-packages (from matplotlib->imgaug==0.4.0) (2.8.2)\n",
            "Requirement already satisfied: setuptools-scm>=4 in /usr/local/lib/python3.7/site-packages (from matplotlib->imgaug==0.4.0) (6.3.2)\n",
            "Requirement already satisfied: tomli>=1.0.0 in /usr/local/lib/python3.7/site-packages (from setuptools-scm>=4->matplotlib->imgaug==0.4.0) (1.2.2)\n",
            "Requirement already satisfied: setuptools in /usr/local/lib/python3.7/site-packages (from setuptools-scm>=4->matplotlib->imgaug==0.4.0) (58.0.4)\n",
            "Building wheels for collected packages: imgaug\n",
            "  Building wheel for imgaug (setup.py) ... \u001b[?25l\u001b[?25hdone\n",
            "  Created wheel for imgaug: filename=imgaug-0.4.0-py3-none-any.whl size=971122 sha256=c4e8a552029c70006c2a73d60a4661b787629e24e8341e7b691617dfd4c7fbcd\n",
            "  Stored in directory: /tmp/pip-ephem-wheel-cache-trtbh3tg/wheels/0c/78/b5/9303fae9d5e03df1f319adfe4e6534180b5c3232de11bc9a2f\n",
            "Successfully built imgaug\n",
            "Installing collected packages: tifffile, scipy, PyWavelets, networkx, imageio, Shapely, scikit-image, imgaug\n",
            "Successfully installed PyWavelets-1.2.0 Shapely-1.8.0 imageio-2.13.3 imgaug-0.4.0 networkx-2.6.3 scikit-image-0.19.0 scipy-1.7.3 tifffile-2021.11.2\n",
            "\u001b[33mWARNING: Running pip as the 'root' user can result in broken permissions and conflicting behaviour with the system package manager. It is recommended to use a virtual environment instead: https://pip.pypa.io/warnings/venv\u001b[0m\n"
          ]
        }
      ]
    },
    {
      "cell_type": "code",
      "metadata": {
        "colab": {
          "base_uri": "https://localhost:8080/"
        },
        "id": "gEdAslXFeqMi",
        "outputId": "c5fd7624-0e16-45c0-c521-b22dff68921f"
      },
      "source": [
        "cd /content/drive/My Drive/1-omscs/mmf"
      ],
      "execution_count": null,
      "outputs": [
        {
          "output_type": "stream",
          "name": "stdout",
          "text": [
            "/content/drive/My Drive/1-omscs/mmf\n"
          ]
        }
      ]
    },
    {
      "cell_type": "code",
      "metadata": {
        "id": "xITX0IgAtgJG"
      },
      "source": [
        "!pip install --editable ."
      ],
      "execution_count": null,
      "outputs": []
    },
    {
      "cell_type": "markdown",
      "metadata": {
        "id": "_TcdSY1SBlcw"
      },
      "source": [
        "4. unzip dataset to drive specified path\n",
        "\n",
        "instructions: Yes, while extracting pass --mmf_data_folder=<your_dir> option to mmf_convert_hm command. Then, while running the commands, use MMF_DATA_DIR=<your_dir> environment variable to specify where your data dir is to MMF."
      ]
    },
    {
      "cell_type": "code",
      "metadata": {
        "colab": {
          "base_uri": "https://localhost:8080/"
        },
        "id": "26yEhVWBd54k",
        "outputId": "25b764e5-22a8-4574-e4b8-c6954b94d217"
      },
      "source": [
        "cd /content/drive/My Drive/1-omscs"
      ],
      "execution_count": null,
      "outputs": [
        {
          "name": "stdout",
          "output_type": "stream",
          "text": [
            "/content/drive/My Drive/1-omscs\n"
          ]
        }
      ]
    },
    {
      "cell_type": "code",
      "metadata": {
        "colab": {
          "base_uri": "https://localhost:8080/"
        },
        "id": "00GdK1v-x-md",
        "outputId": "6926784f-de9e-4491-b770-8df0e3e649d8"
      },
      "source": [
        "#unzip the meme dataset \n",
        "!mmf_convert_hm --zip_file='/content/drive/My Drive/1-omscs/hm_data1.zip' --password='' --bypass_checksum=1 #--mmf_data_folder='/content/drive/My Drive/1-omscs'"
      ],
      "execution_count": null,
      "outputs": [
        {
          "name": "stdout",
          "output_type": "stream",
          "text": [
            "/usr/local/lib/python3.7/dist-packages/omegaconf/resolvers/__init__.py:13: UserWarning: The `env` resolver is deprecated, see https://github.com/omry/omegaconf/issues/573\n",
            "  \"The `env` resolver is deprecated, see https://github.com/omry/omegaconf/issues/573\"\n",
            "/usr/local/lib/python3.7/dist-packages/omegaconf/grammar_visitor.py:257: UserWarning: In the sequence `MMF_LOG_DIR,` some elements are missing: please replace them with empty quoted strings. See https://github.com/omry/omegaconf/issues/572 for details.\n",
            "  category=UserWarning,\n",
            "/usr/local/lib/python3.7/dist-packages/omegaconf/grammar_visitor.py:257: UserWarning: In the sequence `MMF_REPORT_DIR,` some elements are missing: please replace them with empty quoted strings. See https://github.com/omry/omegaconf/issues/572 for details.\n",
            "  category=UserWarning,\n",
            "/usr/local/lib/python3.7/dist-packages/omegaconf/grammar_visitor.py:257: UserWarning: In the sequence `MMF_TENSORBOARD_LOGDIR,` some elements are missing: please replace them with empty quoted strings. See https://github.com/omry/omegaconf/issues/572 for details.\n",
            "  category=UserWarning,\n",
            "/usr/local/lib/python3.7/dist-packages/omegaconf/grammar_visitor.py:257: UserWarning: In the sequence `MMF_WANDB_LOGDIR,` some elements are missing: please replace them with empty quoted strings. See https://github.com/omry/omegaconf/issues/572 for details.\n",
            "  category=UserWarning,\n",
            "/usr/local/lib/python3.7/dist-packages/omegaconf/grammar_visitor.py:257: UserWarning: In the sequence `MMF_USER_DIR,` some elements are missing: please replace them with empty quoted strings. See https://github.com/omry/omegaconf/issues/572 for details.\n",
            "  category=UserWarning,\n",
            "Data folder is /root/.cache/torch/mmf/data\n",
            "Zip path is /content/drive/My Drive/1-omscs/hm_data1.zip\n",
            "Copying /content/drive/My Drive/1-omscs/hm_data1.zip\n",
            "Unzipping /content/drive/My Drive/1-omscs/hm_data1.zip\n",
            "Extracting the zip can take time. Sit back and relax.\n",
            "Moving train.jsonl\n",
            "Moving dev_seen.jsonl\n",
            "Moving test_seen.jsonl\n",
            "Moving dev_unseen.jsonl\n",
            "Moving test_unseen.jsonl\n",
            "Moving img\n"
          ]
        }
      ]
    },
    {
      "cell_type": "markdown",
      "metadata": {
        "id": "EoJmP6UTgaaa"
      },
      "source": [
        "Explore the dataset"
      ]
    },
    {
      "cell_type": "code",
      "metadata": {
        "colab": {
          "base_uri": "https://localhost:8080/"
        },
        "id": "YkwnDJTjy0lr",
        "outputId": "89b4b3a3-c4de-4c42-b653-2f73094af07e"
      },
      "source": [
        "cd '/content/drive/My Drive/1-omscs/datasets/hateful_memes/defaults/annotations'"
      ],
      "execution_count": null,
      "outputs": [
        {
          "name": "stdout",
          "output_type": "stream",
          "text": [
            "/content/drive/My Drive/1-omscs/datasets/hateful_memes/defaults/annotations\n"
          ]
        }
      ]
    },
    {
      "cell_type": "code",
      "metadata": {
        "id": "gGj8Qk4Imkp3"
      },
      "source": [
        "#explore test images\n",
        "# Opening JSON file\n",
        "f = open('test_seen.jsonl')\n",
        " \n",
        "# returns JSON object as\n",
        "# a dictionary\n",
        "data = json.load(f)\n",
        " \n",
        "# Iterating through the json\n",
        "# list\n",
        "for i in data:\n",
        "    print(i)\n",
        " \n",
        "# Closing file\n",
        "f.close()"
      ],
      "execution_count": null,
      "outputs": []
    },
    {
      "cell_type": "code",
      "metadata": {
        "colab": {
          "base_uri": "https://localhost:8080/"
        },
        "id": "CtsHFK3QLm59",
        "outputId": "cd81952f-53d1-4820-9184-2d929c3990fd"
      },
      "source": [
        "print(f)"
      ],
      "execution_count": null,
      "outputs": [
        {
          "name": "stdout",
          "output_type": "stream",
          "text": [
            "<_io.TextIOWrapper name='test_seen.jsonl' mode='r' encoding='UTF-8'>\n"
          ]
        }
      ]
    },
    {
      "cell_type": "markdown",
      "metadata": {
        "id": "01W87LxLRFiv"
      },
      "source": [
        "\n",
        "\n",
        "2.  **Working with pretrained models**\n"
      ]
    },
    {
      "cell_type": "code",
      "metadata": {
        "colab": {
          "base_uri": "https://localhost:8080/"
        },
        "id": "txMO6BI6Iy0g",
        "outputId": "664b9967-7db8-4ece-b2a8-1716462874c5"
      },
      "source": [
        "cd /content/drive/My Drive/1-omscs/mmf"
      ],
      "execution_count": null,
      "outputs": [
        {
          "name": "stdout",
          "output_type": "stream",
          "text": [
            "/content/drive/My Drive/1-omscs/mmf\n"
          ]
        }
      ]
    },
    {
      "cell_type": "markdown",
      "metadata": {
        "id": "kBhyiZoUaF71"
      },
      "source": [
        "Predict on pretrained mmbt"
      ]
    },
    {
      "cell_type": "code",
      "metadata": {
        "id": "e6D7T0JGZsLD"
      },
      "source": [
        "!mmf_predict config=projects/hateful_memes/configs/mmbt/defaults.yaml model=mmbt dataset=hateful_memes run_type=test checkpoint.resume_zoo=mmbt.hateful_memes.images training.batch_size=16 MMF_DATA_DIR='/content/drive/My Drive/1-omscs'"
      ],
      "execution_count": null,
      "outputs": []
    },
    {
      "cell_type": "markdown",
      "metadata": {
        "id": "rM4_yTyY9Y6C"
      },
      "source": [
        "understand the final predict file"
      ]
    },
    {
      "cell_type": "code",
      "metadata": {
        "colab": {
          "base_uri": "https://localhost:8080/",
          "height": 423
        },
        "id": "oT5pEbHpU0V-",
        "outputId": "651b7fdb-c088-44de-a455-ed808fa021f9"
      },
      "source": [
        "pd.read_csv('/content/drive/My Drive/omscs/save/hateful_memes_mmbt_40447481/reports/hateful_memes_run_test_2021-12-06T01:43:19.csv')"
      ],
      "execution_count": null,
      "outputs": [
        {
          "data": {
            "text/html": [
              "<div>\n",
              "<style scoped>\n",
              "    .dataframe tbody tr th:only-of-type {\n",
              "        vertical-align: middle;\n",
              "    }\n",
              "\n",
              "    .dataframe tbody tr th {\n",
              "        vertical-align: top;\n",
              "    }\n",
              "\n",
              "    .dataframe thead th {\n",
              "        text-align: right;\n",
              "    }\n",
              "</style>\n",
              "<table border=\"1\" class=\"dataframe\">\n",
              "  <thead>\n",
              "    <tr style=\"text-align: right;\">\n",
              "      <th></th>\n",
              "      <th>id</th>\n",
              "      <th>proba</th>\n",
              "      <th>label</th>\n",
              "    </tr>\n",
              "  </thead>\n",
              "  <tbody>\n",
              "    <tr>\n",
              "      <th>0</th>\n",
              "      <td>15740</td>\n",
              "      <td>0.147090</td>\n",
              "      <td>0</td>\n",
              "    </tr>\n",
              "    <tr>\n",
              "      <th>1</th>\n",
              "      <td>38794</td>\n",
              "      <td>0.991150</td>\n",
              "      <td>1</td>\n",
              "    </tr>\n",
              "    <tr>\n",
              "      <th>2</th>\n",
              "      <td>60792</td>\n",
              "      <td>0.009282</td>\n",
              "      <td>0</td>\n",
              "    </tr>\n",
              "    <tr>\n",
              "      <th>3</th>\n",
              "      <td>71824</td>\n",
              "      <td>0.000705</td>\n",
              "      <td>0</td>\n",
              "    </tr>\n",
              "    <tr>\n",
              "      <th>4</th>\n",
              "      <td>4796</td>\n",
              "      <td>0.567605</td>\n",
              "      <td>1</td>\n",
              "    </tr>\n",
              "    <tr>\n",
              "      <th>...</th>\n",
              "      <td>...</td>\n",
              "      <td>...</td>\n",
              "      <td>...</td>\n",
              "    </tr>\n",
              "    <tr>\n",
              "      <th>1995</th>\n",
              "      <td>71352</td>\n",
              "      <td>0.001043</td>\n",
              "      <td>0</td>\n",
              "    </tr>\n",
              "    <tr>\n",
              "      <th>1996</th>\n",
              "      <td>2164</td>\n",
              "      <td>0.000598</td>\n",
              "      <td>0</td>\n",
              "    </tr>\n",
              "    <tr>\n",
              "      <th>1997</th>\n",
              "      <td>3587</td>\n",
              "      <td>0.000565</td>\n",
              "      <td>0</td>\n",
              "    </tr>\n",
              "    <tr>\n",
              "      <th>1998</th>\n",
              "      <td>47839</td>\n",
              "      <td>0.384304</td>\n",
              "      <td>0</td>\n",
              "    </tr>\n",
              "    <tr>\n",
              "      <th>1999</th>\n",
              "      <td>34281</td>\n",
              "      <td>0.000654</td>\n",
              "      <td>0</td>\n",
              "    </tr>\n",
              "  </tbody>\n",
              "</table>\n",
              "<p>2000 rows × 3 columns</p>\n",
              "</div>"
            ],
            "text/plain": [
              "         id     proba  label\n",
              "0     15740  0.147090      0\n",
              "1     38794  0.991150      1\n",
              "2     60792  0.009282      0\n",
              "3     71824  0.000705      0\n",
              "4      4796  0.567605      1\n",
              "...     ...       ...    ...\n",
              "1995  71352  0.001043      0\n",
              "1996   2164  0.000598      0\n",
              "1997   3587  0.000565      0\n",
              "1998  47839  0.384304      0\n",
              "1999  34281  0.000654      0\n",
              "\n",
              "[2000 rows x 3 columns]"
            ]
          },
          "execution_count": 19,
          "metadata": {},
          "output_type": "execute_result"
        }
      ]
    },
    {
      "cell_type": "markdown",
      "metadata": {
        "id": "iNVhkYNy9ewC"
      },
      "source": [
        "# run pre-trained visual bert "
      ]
    },
    {
      "cell_type": "code",
      "metadata": {
        "colab": {
          "base_uri": "https://localhost:8080/"
        },
        "id": "XjP8IFoZCJLt",
        "outputId": "87e933f7-f849-4c52-e863-03463e3d30bc"
      },
      "source": [
        "% cd /content/drive/My Drive/1-omscs"
      ],
      "execution_count": null,
      "outputs": [
        {
          "name": "stdout",
          "output_type": "stream",
          "text": [
            "/content/drive/My Drive/1-omscs\n"
          ]
        }
      ]
    },
    {
      "cell_type": "code",
      "metadata": {
        "id": "s3jVqrBaabTY"
      },
      "source": [
        "!mmf_predict config=projects/hateful_memes/configs/visual_bert/from_coco.yaml \\\n",
        "   model=visual_bert \\\n",
        "   dataset=hateful_memes \\\n",
        "   run_type=val \\\n",
        "   checkpoint.resume_zoo=visual_bert.finetuned.hateful_memes.from_coco "
      ],
      "execution_count": null,
      "outputs": []
    },
    {
      "cell_type": "code",
      "metadata": {
        "id": "Wd1UR9lszrn1"
      },
      "source": [
        "pred = pd.read_csv('/content/drive/My Drive/1-omscs/save/hateful_memes_visual_bert_32057151/reports/hateful_memes_run_val_2021-12-09T19:05:49.csv')"
      ],
      "execution_count": null,
      "outputs": []
    },
    {
      "cell_type": "code",
      "metadata": {
        "colab": {
          "base_uri": "https://localhost:8080/",
          "height": 423
        },
        "id": "1aYGthzbZ7L_",
        "outputId": "36d34c43-9c6e-491a-e734-7f2e70a42803"
      },
      "source": [
        "pred"
      ],
      "execution_count": null,
      "outputs": [
        {
          "output_type": "execute_result",
          "data": {
            "text/html": [
              "<div>\n",
              "<style scoped>\n",
              "    .dataframe tbody tr th:only-of-type {\n",
              "        vertical-align: middle;\n",
              "    }\n",
              "\n",
              "    .dataframe tbody tr th {\n",
              "        vertical-align: top;\n",
              "    }\n",
              "\n",
              "    .dataframe thead th {\n",
              "        text-align: right;\n",
              "    }\n",
              "</style>\n",
              "<table border=\"1\" class=\"dataframe\">\n",
              "  <thead>\n",
              "    <tr style=\"text-align: right;\">\n",
              "      <th></th>\n",
              "      <th>id</th>\n",
              "      <th>proba</th>\n",
              "      <th>label</th>\n",
              "    </tr>\n",
              "  </thead>\n",
              "  <tbody>\n",
              "    <tr>\n",
              "      <th>0</th>\n",
              "      <td>47056</td>\n",
              "      <td>0.020138</td>\n",
              "      <td>0</td>\n",
              "    </tr>\n",
              "    <tr>\n",
              "      <th>1</th>\n",
              "      <td>43805</td>\n",
              "      <td>0.000369</td>\n",
              "      <td>0</td>\n",
              "    </tr>\n",
              "    <tr>\n",
              "      <th>2</th>\n",
              "      <td>8291</td>\n",
              "      <td>0.974809</td>\n",
              "      <td>1</td>\n",
              "    </tr>\n",
              "    <tr>\n",
              "      <th>3</th>\n",
              "      <td>56098</td>\n",
              "      <td>0.835544</td>\n",
              "      <td>1</td>\n",
              "    </tr>\n",
              "    <tr>\n",
              "      <th>4</th>\n",
              "      <td>29437</td>\n",
              "      <td>0.000789</td>\n",
              "      <td>0</td>\n",
              "    </tr>\n",
              "    <tr>\n",
              "      <th>...</th>\n",
              "      <td>...</td>\n",
              "      <td>...</td>\n",
              "      <td>...</td>\n",
              "    </tr>\n",
              "    <tr>\n",
              "      <th>535</th>\n",
              "      <td>8459</td>\n",
              "      <td>0.000754</td>\n",
              "      <td>0</td>\n",
              "    </tr>\n",
              "    <tr>\n",
              "      <th>536</th>\n",
              "      <td>95487</td>\n",
              "      <td>0.000303</td>\n",
              "      <td>0</td>\n",
              "    </tr>\n",
              "    <tr>\n",
              "      <th>537</th>\n",
              "      <td>27614</td>\n",
              "      <td>0.001378</td>\n",
              "      <td>0</td>\n",
              "    </tr>\n",
              "    <tr>\n",
              "      <th>538</th>\n",
              "      <td>95613</td>\n",
              "      <td>0.990125</td>\n",
              "      <td>1</td>\n",
              "    </tr>\n",
              "    <tr>\n",
              "      <th>539</th>\n",
              "      <td>93051</td>\n",
              "      <td>0.001202</td>\n",
              "      <td>0</td>\n",
              "    </tr>\n",
              "  </tbody>\n",
              "</table>\n",
              "<p>540 rows × 3 columns</p>\n",
              "</div>"
            ],
            "text/plain": [
              "        id     proba  label\n",
              "0    47056  0.020138      0\n",
              "1    43805  0.000369      0\n",
              "2     8291  0.974809      1\n",
              "3    56098  0.835544      1\n",
              "4    29437  0.000789      0\n",
              "..     ...       ...    ...\n",
              "535   8459  0.000754      0\n",
              "536  95487  0.000303      0\n",
              "537  27614  0.001378      0\n",
              "538  95613  0.990125      1\n",
              "539  93051  0.001202      0\n",
              "\n",
              "[540 rows x 3 columns]"
            ]
          },
          "metadata": {},
          "execution_count": 203
        }
      ]
    },
    {
      "cell_type": "code",
      "source": [
        "labels = pd.read_json(path_or_buf='/content/drive/My Drive/1-omscs/datasets/hateful_memes/defaults/annotations/dev_unseen.jsonl', lines=True)"
      ],
      "metadata": {
        "id": "s1jhWbMWobdq"
      },
      "execution_count": null,
      "outputs": []
    },
    {
      "cell_type": "code",
      "source": [
        "df = labels.merge(pred,on='id')"
      ],
      "metadata": {
        "id": "cXX3W5ynokCX"
      },
      "execution_count": null,
      "outputs": []
    },
    {
      "cell_type": "code",
      "source": [
        "df"
      ],
      "metadata": {
        "colab": {
          "base_uri": "https://localhost:8080/",
          "height": 423
        },
        "id": "S8YzdmrPo3xO",
        "outputId": "cb80b255-7bf0-4945-d258-ed924ab6f0cf"
      },
      "execution_count": null,
      "outputs": [
        {
          "output_type": "execute_result",
          "data": {
            "text/html": [
              "<div>\n",
              "<style scoped>\n",
              "    .dataframe tbody tr th:only-of-type {\n",
              "        vertical-align: middle;\n",
              "    }\n",
              "\n",
              "    .dataframe tbody tr th {\n",
              "        vertical-align: top;\n",
              "    }\n",
              "\n",
              "    .dataframe thead th {\n",
              "        text-align: right;\n",
              "    }\n",
              "</style>\n",
              "<table border=\"1\" class=\"dataframe\">\n",
              "  <thead>\n",
              "    <tr style=\"text-align: right;\">\n",
              "      <th></th>\n",
              "      <th>id</th>\n",
              "      <th>img</th>\n",
              "      <th>label_x</th>\n",
              "      <th>text</th>\n",
              "      <th>proba</th>\n",
              "      <th>label_y</th>\n",
              "    </tr>\n",
              "  </thead>\n",
              "  <tbody>\n",
              "    <tr>\n",
              "      <th>0</th>\n",
              "      <td>76432</td>\n",
              "      <td>img/76432.png</td>\n",
              "      <td>0</td>\n",
              "      <td>you thinking what i'm thinking?</td>\n",
              "      <td>0.000324</td>\n",
              "      <td>0</td>\n",
              "    </tr>\n",
              "    <tr>\n",
              "      <th>1</th>\n",
              "      <td>14270</td>\n",
              "      <td>img/14270.png</td>\n",
              "      <td>0</td>\n",
              "      <td>a brilliant mind</td>\n",
              "      <td>0.000953</td>\n",
              "      <td>0</td>\n",
              "    </tr>\n",
              "    <tr>\n",
              "      <th>2</th>\n",
              "      <td>56947</td>\n",
              "      <td>img/56947.png</td>\n",
              "      <td>0</td>\n",
              "      <td>pro gamer 6.000.000 kills, 1 death</td>\n",
              "      <td>0.198037</td>\n",
              "      <td>0</td>\n",
              "    </tr>\n",
              "    <tr>\n",
              "      <th>3</th>\n",
              "      <td>35174</td>\n",
              "      <td>img/35174.png</td>\n",
              "      <td>0</td>\n",
              "      <td>lets end poaching</td>\n",
              "      <td>0.105125</td>\n",
              "      <td>0</td>\n",
              "    </tr>\n",
              "    <tr>\n",
              "      <th>4</th>\n",
              "      <td>39264</td>\n",
              "      <td>img/39264.png</td>\n",
              "      <td>0</td>\n",
              "      <td>my wife called me a good husband thats a huge ...</td>\n",
              "      <td>0.017685</td>\n",
              "      <td>0</td>\n",
              "    </tr>\n",
              "    <tr>\n",
              "      <th>...</th>\n",
              "      <td>...</td>\n",
              "      <td>...</td>\n",
              "      <td>...</td>\n",
              "      <td>...</td>\n",
              "      <td>...</td>\n",
              "      <td>...</td>\n",
              "    </tr>\n",
              "    <tr>\n",
              "      <th>535</th>\n",
              "      <td>83675</td>\n",
              "      <td>img/83675.png</td>\n",
              "      <td>0</td>\n",
              "      <td>i'm gonna be like phelps one day</td>\n",
              "      <td>0.001102</td>\n",
              "      <td>0</td>\n",
              "    </tr>\n",
              "    <tr>\n",
              "      <th>536</th>\n",
              "      <td>37198</td>\n",
              "      <td>img/37198.png</td>\n",
              "      <td>0</td>\n",
              "      <td>when you're so relaxed you can feel yourself g...</td>\n",
              "      <td>0.000185</td>\n",
              "      <td>0</td>\n",
              "    </tr>\n",
              "    <tr>\n",
              "      <th>537</th>\n",
              "      <td>48670</td>\n",
              "      <td>img/48670.png</td>\n",
              "      <td>0</td>\n",
              "      <td>look at this sandwich maker club i found on wi...</td>\n",
              "      <td>0.000447</td>\n",
              "      <td>0</td>\n",
              "    </tr>\n",
              "    <tr>\n",
              "      <th>538</th>\n",
              "      <td>9863</td>\n",
              "      <td>img/09863.png</td>\n",
              "      <td>0</td>\n",
              "      <td>diverse group of women</td>\n",
              "      <td>0.000467</td>\n",
              "      <td>0</td>\n",
              "    </tr>\n",
              "    <tr>\n",
              "      <th>539</th>\n",
              "      <td>97320</td>\n",
              "      <td>img/97320.png</td>\n",
              "      <td>0</td>\n",
              "      <td>\"when your dishwasher is broken so you take it...</td>\n",
              "      <td>0.000416</td>\n",
              "      <td>0</td>\n",
              "    </tr>\n",
              "  </tbody>\n",
              "</table>\n",
              "<p>540 rows × 6 columns</p>\n",
              "</div>"
            ],
            "text/plain": [
              "        id            img  ...     proba label_y\n",
              "0    76432  img/76432.png  ...  0.000324       0\n",
              "1    14270  img/14270.png  ...  0.000953       0\n",
              "2    56947  img/56947.png  ...  0.198037       0\n",
              "3    35174  img/35174.png  ...  0.105125       0\n",
              "4    39264  img/39264.png  ...  0.017685       0\n",
              "..     ...            ...  ...       ...     ...\n",
              "535  83675  img/83675.png  ...  0.001102       0\n",
              "536  37198  img/37198.png  ...  0.000185       0\n",
              "537  48670  img/48670.png  ...  0.000447       0\n",
              "538   9863  img/09863.png  ...  0.000467       0\n",
              "539  97320  img/97320.png  ...  0.000416       0\n",
              "\n",
              "[540 rows x 6 columns]"
            ]
          },
          "metadata": {},
          "execution_count": 209
        }
      ]
    },
    {
      "cell_type": "code",
      "metadata": {
        "colab": {
          "base_uri": "https://localhost:8080/"
        },
        "id": "h9yDA0nfmd0D",
        "outputId": "7a538133-daff-4ebd-bb82-3fd88019cb59"
      },
      "source": [
        "!pip install scikit-plot"
      ],
      "execution_count": null,
      "outputs": [
        {
          "name": "stdout",
          "output_type": "stream",
          "text": [
            "Collecting scikit-plot\n",
            "  Downloading scikit_plot-0.3.7-py3-none-any.whl (33 kB)\n",
            "Requirement already satisfied: matplotlib>=1.4.0 in /usr/local/lib/python3.7/dist-packages (from scikit-plot) (3.3.4)\n",
            "Requirement already satisfied: joblib>=0.10 in /usr/local/lib/python3.7/dist-packages (from scikit-plot) (1.1.0)\n",
            "Requirement already satisfied: scikit-learn>=0.18 in /usr/local/lib/python3.7/dist-packages (from scikit-plot) (1.0.1)\n",
            "Requirement already satisfied: scipy>=0.9 in /usr/local/lib/python3.7/dist-packages (from scikit-plot) (1.4.1)\n",
            "Requirement already satisfied: cycler>=0.10 in /usr/local/lib/python3.7/dist-packages (from matplotlib>=1.4.0->scikit-plot) (0.11.0)\n",
            "Requirement already satisfied: python-dateutil>=2.1 in /usr/local/lib/python3.7/dist-packages (from matplotlib>=1.4.0->scikit-plot) (2.8.2)\n",
            "Requirement already satisfied: pyparsing!=2.0.4,!=2.1.2,!=2.1.6,>=2.0.3 in /usr/local/lib/python3.7/dist-packages (from matplotlib>=1.4.0->scikit-plot) (3.0.6)\n",
            "Requirement already satisfied: pillow>=6.2.0 in /usr/local/lib/python3.7/dist-packages (from matplotlib>=1.4.0->scikit-plot) (8.3.1)\n",
            "Requirement already satisfied: kiwisolver>=1.0.1 in /usr/local/lib/python3.7/dist-packages (from matplotlib>=1.4.0->scikit-plot) (1.3.2)\n",
            "Requirement already satisfied: numpy>=1.15 in /usr/local/lib/python3.7/dist-packages (from matplotlib>=1.4.0->scikit-plot) (1.19.5)\n",
            "Requirement already satisfied: six>=1.5 in /usr/local/lib/python3.7/dist-packages (from python-dateutil>=2.1->matplotlib>=1.4.0->scikit-plot) (1.15.0)\n",
            "Requirement already satisfied: threadpoolctl>=2.0.0 in /usr/local/lib/python3.7/dist-packages (from scikit-learn>=0.18->scikit-plot) (3.0.0)\n",
            "Installing collected packages: scikit-plot\n",
            "Successfully installed scikit-plot-0.3.7\n"
          ]
        }
      ]
    },
    {
      "cell_type": "code",
      "metadata": {
        "id": "U6i3yxbZly-L"
      },
      "source": [
        "from sklearn.datasets import make_classification\n",
        "from sklearn.linear_model import LogisticRegression\n",
        "from sklearn.model_selection import train_test_split\n",
        "from sklearn.metrics import roc_curve\n",
        "from sklearn.metrics import *\n",
        "from matplotlib import pyplot"
      ],
      "execution_count": null,
      "outputs": []
    },
    {
      "cell_type": "code",
      "metadata": {
        "id": "C6ZR3slKma-b"
      },
      "source": [
        "ns_fpr, ns_tpr, _ = roc_curve(df.label_x, df.proba)"
      ],
      "execution_count": null,
      "outputs": []
    },
    {
      "cell_type": "code",
      "metadata": {
        "colab": {
          "base_uri": "https://localhost:8080/",
          "height": 298
        },
        "id": "FfljPd76m8lU",
        "outputId": "51c92283-3774-486d-fa92-b6487df19b8e"
      },
      "source": [
        "pyplot.plot(ns_fpr, ns_tpr, linestyle='--', label='ROC Curve')\n",
        "pyplot.title('ROC Curve')"
      ],
      "execution_count": null,
      "outputs": [
        {
          "output_type": "execute_result",
          "data": {
            "text/plain": [
              "Text(0.5, 1.0, 'ROC Curve')"
            ]
          },
          "metadata": {},
          "execution_count": 214
        },
        {
          "output_type": "display_data",
          "data": {
            "image/png": "[encoded data removed]",
            "text/plain": [
              "<Figure size 432x288 with 1 Axes>"
            ]
          },
          "metadata": {
            "needs_background": "light"
          }
        }
      ]
    },
    {
      "cell_type": "code",
      "metadata": {
        "colab": {
          "base_uri": "https://localhost:8080/"
        },
        "id": "KVbsSkOOnrdk",
        "outputId": "f5fddce7-cba1-43e4-882b-81b59635c3ae"
      },
      "source": [
        "roc_auc_score(df.label_x, df.proba)"
      ],
      "execution_count": null,
      "outputs": [
        {
          "output_type": "execute_result",
          "data": {
            "text/plain": [
              "0.6996323529411764"
            ]
          },
          "metadata": {},
          "execution_count": 213
        }
      ]
    },
    {
      "cell_type": "code",
      "source": [
        "accuracy_score(df.label_x, df.label_y)"
      ],
      "metadata": {
        "colab": {
          "base_uri": "https://localhost:8080/"
        },
        "id": "q_bsPGu0q-pm",
        "outputId": "7f9b5f7b-a843-48d3-8d93-a562a2a81957"
      },
      "execution_count": null,
      "outputs": [
        {
          "output_type": "execute_result",
          "data": {
            "text/plain": [
              "0.6703703703703704"
            ]
          },
          "metadata": {},
          "execution_count": 220
        }
      ]
    },
    {
      "cell_type": "code",
      "source": [
        "#data_path is the path of your test data set\n",
        "#predictions is the prediction csv output from mmf predict \n",
        "def generate_metrics(data_path,predictions):\n",
        "  labels = pd.read_json(path_or_buf=data_path, lines=True)\n",
        "  df = labels.merge(pred,on='id')\n",
        "  ns_fpr, ns_tpr, _ = roc_curve(df.label_x, df.proba)\n",
        "  pyplot.plot(ns_fpr, ns_tpr, linestyle='--', label='ROC Curve')\n",
        "  pyplot.title('ROC Curve')\n",
        "  print('ROC_AUC score:',roc_auc_score(df.label_x, df.proba))\n",
        "  print('accuracy:',accuracy_score(df.label_x, df.label_y))\n",
        "  print('precision:',precision_score(df.label_x, df.label_y))\n",
        "  print('recall:',recall_score(df.label_x, df.label_y))\n",
        "  print('log loss:',log_loss(df.label_x, df.proba))"
      ],
      "metadata": {
        "id": "YTQfswDYp8v_"
      },
      "execution_count": null,
      "outputs": []
    },
    {
      "cell_type": "code",
      "source": [
        "generate_metrics('/content/drive/My Drive/1-omscs/datasets/hateful_memes/defaults/annotations/dev_unseen.jsonl',pred)"
      ],
      "metadata": {
        "colab": {
          "base_uri": "https://localhost:8080/",
          "height": 367
        },
        "id": "TSJ6BGCnqqdq",
        "outputId": "95e345d0-8537-4880-ab88-148f1445bda8"
      },
      "execution_count": null,
      "outputs": [
        {
          "output_type": "stream",
          "name": "stdout",
          "text": [
            "ROC_AUC score: 0.6996323529411764\n",
            "accuracy: 0.6703703703703704\n",
            "precision: 0.6037735849056604\n",
            "recall: 0.32\n",
            "log loss: 1.474254399395289\n"
          ]
        },
        {
          "output_type": "display_data",
          "data": {
            "image/png": "[encoded data removed]",
            "text/plain": [
              "<Figure size 432x288 with 1 Axes>"
            ]
          },
          "metadata": {
            "needs_background": "light"
          }
        }
      ]
    },
    {
      "cell_type": "code",
      "source": [
        "def training_metrics(data_path,predictions):\n",
        "  labels = pd.read_json(path_or_buf=data_path, lines=True)\n",
        "  df = labels.merge(pred,on='id')\n",
        "  ns_fpr, ns_tpr, _ = roc_curve(df.label_x, df.proba)\n",
        "  pyplot.plot(ns_fpr, ns_tpr, linestyle='--', label='ROC Curve')\n",
        "  pyplot.title('ROC Curve')\n",
        "  print('ROC_AUC score:',roc_auc_score(df.label_x, df.proba))\n",
        "  print('accuracy:',accuracy_score(df.label_x, df.label_y))\n",
        "  print('precision:',precision_score(df.label_x, df.label_y))\n",
        "  print('recall:',recall_score(df.label_x, df.label_y))\n",
        "  print('log loss:',log_loss(df.label_x, df.proba))"
      ],
      "metadata": {
        "id": "dM02gThkrrEw"
      },
      "execution_count": null,
      "outputs": []
    },
    {
      "cell_type": "code",
      "source": [
        ""
      ],
      "metadata": {
        "id": "zwqepvbitQe8"
      },
      "execution_count": null,
      "outputs": []
    }
  ]
}